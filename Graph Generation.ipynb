{
 "cells": [
  {
   "cell_type": "code",
   "execution_count": 100,
   "metadata": {},
   "outputs": [],
   "source": [
    "import matplotlib.pyplot as plt\n",
    "import networkx as nx\n",
    "import random\n",
    "import pygraphviz as pgv\n",
    "from subprocess import run"
   ]
  },
  {
   "cell_type": "code",
   "execution_count": 76,
   "metadata": {},
   "outputs": [],
   "source": [
    "def kernelize(G):\n",
    "    nodes = list()\n",
    "    for n in G.nodes:\n",
    "        if nx.degree(G,n):\n",
    "            nodes.append(n)\n",
    "    return G.subgraph(nodes)\n",
    "def color(A, nodes, color):\n",
    "    for n in nodes:\n",
    "        n = A.get_node(n)\n",
    "        n.attr[\"fillcolor\"] = color\n",
    "    A.node_attr['style']='filled'"
   ]
  },
  {
   "cell_type": "code",
   "execution_count": 187,
   "metadata": {},
   "outputs": [],
   "source": [
    "def k_vertex_cover(G, k):\n",
    "    accepted = list()\n",
    "    rejected = list()\n",
    "    unknown = list()\n",
    "    orig_nodes = [n for n in G.nodes()]\n",
    "    success = True\n",
    "    for v in orig_nodes:\n",
    "            if G.degree(v) == 0:\n",
    "                    accepted += [v]\n",
    "            elif G.degree(v) == 1:\n",
    "                    if len([e for e in G.subgraph(accepted + [v]).edges() if v in e]):\n",
    "                            rejected += [v]\n",
    "                            k -= 1\n",
    "                    else: accepted += [v]\n",
    "            elif G.degree(v) > k:\n",
    "                    rejected += [v]\n",
    "                    k -= 1\n",
    "            else:\n",
    "                    unknown += [v]\n",
    "            if k < 0:\n",
    "                    success = False\n",
    "                    break\n",
    "            # G = G.subgraph([n for n in G.nodes if n is not v])\n",
    "    if len(G.subgraph(unknown + accepted).edges()) > k*k:\n",
    "            success = False\n",
    "    return success, accepted, rejected, unknown"
   ]
  },
  {
   "cell_type": "code",
   "execution_count": 77,
   "metadata": {},
   "outputs": [],
   "source": [
    "# troublemaker\n",
    "kernalize = False\n",
    "G = nx.Graph()\n",
    "N = 200\n",
    "G.add_nodes_from(range(N))\n",
    "troublemaker = \"42\"\n",
    "G.add_node(troublemaker)\n",
    "for x in range(30):\n",
    "    x = troublemaker#  random.randint(1,N)\n",
    "    y = random.randint(1,N)\n",
    "    G.add_edge(x, y)\n",
    "if kernalize:\n",
    "    A = nx.nx_agraph.to_agraph(kernalize(G))\n",
    "else:\n",
    "        A = nx.nx_agraph.to_agraph(G)   \n",
    "A.node_attr['style']='filled'\n",
    "n = A.get_node(troublemaker)\n",
    "n.attr[\"fillcolor\"]=\"orange\"\n",
    "A.layout()\n",
    "if kernalize:\n",
    "    A.draw(\"vertex_troublemaker_kernelized.pdf\")\n",
    "else:\n",
    "    A.draw(\"vertex_troublemaker.pdf\")"
   ]
  },
  {
   "cell_type": "code",
   "execution_count": 85,
   "metadata": {},
   "outputs": [],
   "source": [
    "# wild west\n",
    "G = nx.Graph()\n",
    "N = 20\n",
    "G.add_nodes_from(range(N))\n",
    "troublemaker = \"42\"\n",
    "G.add_node(troublemaker)\n",
    "for x in range(N):\n",
    "    for y in range(x,N):\n",
    "        G.add_edge(x, y)\n",
    "A = nx.nx_agraph.to_agraph(G)   \n",
    "A.node_attr['style']='filled'\n",
    "A.node_attr['fillcolor']=\"white\"\n",
    "n = A.get_node(troublemaker)\n",
    "n.attr[\"fillcolor\"]=\"orange\"\n",
    "A.layout()\n",
    "A.draw(\"vertex_wild_west.pdf\")"
   ]
  },
  {
   "cell_type": "code",
   "execution_count": 148,
   "metadata": {},
   "outputs": [
    {
     "data": {
      "text/plain": [
       "CompletedProcess(args='./build', returncode=0)"
      ]
     },
     "execution_count": 148,
     "metadata": {},
     "output_type": "execute_result"
    }
   ],
   "source": [
    "# random\n",
    "\n",
    "for kernel in (True, False):\n",
    "    G = nx.Graph()\n",
    "    N = 1000\n",
    "    p = 0.01\n",
    "    G.add_nodes_from(range(N))\n",
    "    random.seed(44) # dont touch\n",
    "    \n",
    "    # normals\n",
    "    for x in range(int(N*p*0.1)):\n",
    "        x = random.randint(1,N)\n",
    "        y = random.randint(1,N)\n",
    "        G.add_edge(x, y)\n",
    "    # stressful\n",
    "    for x in range(int(N*p*0.5)):\n",
    "        x = random.randint(1,N//100)\n",
    "        y = random.randint(1,N//100)\n",
    "        G.add_edge(x, y)\n",
    "    # terror\n",
    "    for x in range(int(N*p*0.4)):\n",
    "        x = random.randint(1,N//500)\n",
    "        y = random.randint(1,N//100)\n",
    "        G.add_edge(x, y)\n",
    "        \n",
    "    # lord forgive me\n",
    "    G.remove_node(4)\n",
    "    \n",
    "    if kernel:\n",
    "        A = nx.nx_agraph.to_agraph(kernelize(G))\n",
    "    else:\n",
    "        A = nx.nx_agraph.to_agraph(G)\n",
    "    #A.node_attr['style']='filled'\n",
    "    #n = A.get_node(troublemaker)\n",
    "    #n.attr[\"fillcolor\"]=\"orange\"\n",
    "    dom = nx.algorithms.dominating.dominating_set(kernelize(G))\n",
    "    cover = [n for n in kernelize(G).nodes if n not in dom]\n",
    "    for n in A.nodes():\n",
    "        n = A.get_node(n)\n",
    "        n.attr[\"fillcolor\"]=\"white\"\n",
    "    A.layout()\n",
    "    if kernel:\n",
    "        color(A,cover, \"orange\")\n",
    "        A.draw(\"vertex_random_kernel.pdf\")\n",
    "        color(A, A.nodes(), \"white\")\n",
    "        A.draw(\"vertex_random_kernel_nocolor.pdf\")\n",
    "        \n",
    "    else:\n",
    "        A.draw(\"vertex_random_nocolor.pdf\")\n",
    "        color(A,cover, \"orange\")\n",
    "        A.draw(\"vertex_random.pdf\")\n",
    "        color(A, A.nodes(), \"white\")\n",
    "        color(A,[n for n in A.nodes() if not A.degree(n)], \"green\")\n",
    "        A.draw(\"vertex_random_green.pdf\")\n",
    "run(\"./build\")"
   ]
  },
  {
   "cell_type": "code",
   "execution_count": 188,
   "metadata": {},
   "outputs": [
    {
     "name": "stdout",
     "output_type": "stream",
     "text": [
      "Cover size: 7 + 15 unknowns\n",
      "Success?: True\n"
     ]
    },
    {
     "data": {
      "text/plain": [
       "CompletedProcess(args='./build', returncode=0)"
      ]
     },
     "execution_count": 188,
     "metadata": {},
     "output_type": "execute_result"
    }
   ],
   "source": [
    "# truly random\n",
    "\n",
    "G = nx.Graph()\n",
    "N = 100\n",
    "p = 0.3\n",
    "k = 15\n",
    "\n",
    "use_k = True\n",
    "\n",
    "G.add_nodes_from(range(N))\n",
    "random.seed(42) \n",
    "\n",
    "# normals\n",
    "for x in range(int(N*p)):\n",
    "    x = random.randint(1,N)\n",
    "    y = random.randint(1,N)\n",
    "    G.add_edge(x, y)\n",
    "\n",
    "if use_k:\n",
    "    success, accepted, cover, unknown = k_vertex_cover(kernelize(G), k)\n",
    "else:\n",
    "    dom = nx.algorithms.dominating.dominating_set(kernelize(G), 14)\n",
    "    cover = [n for n in kernelize(G).nodes if n not in dom]\n",
    "    unknown = []\n",
    "    success = True\n",
    "    accepted = [n for n in cover if n not in kernalize(G).nodes()]\n",
    "print(\"Cover size: %d + %d unknowns\" % (len(cover), len(unknown)))\n",
    "print(\"Success?: %r\" % success)\n",
    "if not success:\n",
    "    print(\"try again with k >= %d\" % ((len(unknown)-k)**2 + k))\n",
    "A = nx.nx_agraph.to_agraph(kernelize(G))\n",
    "# color(A, A.nodes(), \"white\")\n",
    "color(A, cover, \"orange\")\n",
    "# color(A, unknown, \"yellow\")\n",
    "color(A, accepted, \"green\")\n",
    "A.layout()\n",
    "A.draw(\"random_kernel.pdf\")\n",
    "run(\"./build\")"
   ]
  },
  {
   "cell_type": "code",
   "execution_count": null,
   "metadata": {},
   "outputs": [],
   "source": []
  },
  {
   "cell_type": "code",
   "execution_count": null,
   "metadata": {},
   "outputs": [],
   "source": []
  }
 ],
 "metadata": {
  "kernelspec": {
   "display_name": "Python 3",
   "language": "python",
   "name": "python3"
  },
  "language_info": {
   "codemirror_mode": {
    "name": "ipython",
    "version": 3
   },
   "file_extension": ".py",
   "mimetype": "text/x-python",
   "name": "python",
   "nbconvert_exporter": "python",
   "pygments_lexer": "ipython3",
   "version": "3.7.2"
  }
 },
 "nbformat": 4,
 "nbformat_minor": 2
}
