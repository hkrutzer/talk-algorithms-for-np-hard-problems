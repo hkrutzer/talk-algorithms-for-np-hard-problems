{
 "cells": [
  {
   "cell_type": "code",
   "execution_count": 1,
   "metadata": {},
   "outputs": [],
   "source": [
    "import matplotlib.pyplot as plt\n",
    "import networkx as nx\n",
    "import random\n",
    "import pygraphviz as pgv\n",
    "from subprocess import run\n",
    "from networkx.algorithms.approximation.vertex_cover import min_weighted_vertex_cover\n",
    "\n",
    "green = \"green\" #\"darkturquoise\""
   ]
  },
  {
   "cell_type": "code",
   "execution_count": 2,
   "metadata": {},
   "outputs": [],
   "source": [
    "def kernelize(G):\n",
    "    nodes = list()\n",
    "    for n in G.nodes:\n",
    "        if nx.degree(G,n):\n",
    "            nodes.append(n)\n",
    "    return G.subgraph(nodes)\n",
    "def color(A, nodes, color):\n",
    "    for n in nodes:\n",
    "        n = A.get_node(n)\n",
    "        n.attr[\"fillcolor\"] = color\n",
    "    A.node_attr['style']='filled'"
   ]
  },
  {
   "cell_type": "code",
   "execution_count": 3,
   "metadata": {},
   "outputs": [],
   "source": [
    "def bounded_search(G, k, solution=[]):\n",
    "    if k == 0:\n",
    "        return []\n",
    "    v1, v2 = next(G.edges().__iter__())\n",
    "    for v in (v1, v2):\n",
    "        g = G.copy()\n",
    "        g.remove_node(v)\n",
    "        if len(g.edges()) == 0:\n",
    "            return solution + [v]\n",
    "    g1 = G.copy()\n",
    "    g2 = G.copy()\n",
    "    g1.remove_node(v1)\n",
    "    g2.remove_node(v2)\n",
    "    \n",
    "    solution1 = bounded_search(g1, k-1, solution + [v1])\n",
    "    if len(solution1):\n",
    "        return solution1\n",
    "    \n",
    "    return bounded_search(g2, k-1, solution + [v2])"
   ]
  },
  {
   "cell_type": "code",
   "execution_count": 4,
   "metadata": {},
   "outputs": [],
   "source": [
    "def k_vertex_cover(G, k):\n",
    "    accepted = list()\n",
    "    rejected = list()\n",
    "    unknown = list()\n",
    "    orig_nodes = [n for n in G.nodes()]\n",
    "    success = True\n",
    "    for v in orig_nodes:\n",
    "            if G.degree(v) == 0:\n",
    "                    accepted += [v]\n",
    "            elif G.degree(v) == 1:\n",
    "                    if len([e for e in G.subgraph(accepted + [v]).edges() if v in e]):\n",
    "                            rejected += [v]\n",
    "                            k -= 1\n",
    "                    else: accepted += [v]\n",
    "            elif G.degree(v) > k:\n",
    "                    rejected += [v]\n",
    "                    k -= 1\n",
    "            else:\n",
    "                    unknown += [v]\n",
    "            if k < 0:\n",
    "                    success = False\n",
    "                    break\n",
    "            # G = G.subgraph([n for n in G.nodes if n is not v])\n",
    "    if len(G.subgraph(unknown + accepted).edges()) > k*k:\n",
    "            success = False\n",
    "    return success, accepted, rejected, unknown"
   ]
  },
  {
   "cell_type": "code",
   "execution_count": 5,
   "metadata": {},
   "outputs": [],
   "source": [
    "# troublemaker\n",
    "kernalize = False\n",
    "G = nx.Graph()\n",
    "N = 200\n",
    "G.add_nodes_from(range(N))\n",
    "troublemaker = \"42\"\n",
    "G.add_node(troublemaker)\n",
    "for x in range(30):\n",
    "    x = troublemaker#  random.randint(1,N)\n",
    "    y = random.randint(1,N)\n",
    "    G.add_edge(x, y)\n",
    "if kernalize:\n",
    "    A = nx.nx_agraph.to_agraph(kernalize(G))\n",
    "else:\n",
    "        A = nx.nx_agraph.to_agraph(G)   \n",
    "A.node_attr['style']='filled'\n",
    "n = A.get_node(troublemaker)\n",
    "n.attr[\"fillcolor\"]=\"orange\"\n",
    "A.layout()\n",
    "if kernalize:\n",
    "    A.draw(\"vertex_troublemaker_kernelized.pdf\")\n",
    "else:\n",
    "    A.draw(\"vertex_troublemaker.pdf\")"
   ]
  },
  {
   "cell_type": "code",
   "execution_count": 6,
   "metadata": {},
   "outputs": [],
   "source": [
    "# wild west\n",
    "G = nx.Graph()\n",
    "N = 20\n",
    "G.add_nodes_from(range(N))\n",
    "troublemaker = \"42\"\n",
    "G.add_node(troublemaker)\n",
    "for x in range(N):\n",
    "    for y in range(x,N):\n",
    "        G.add_edge(x, y)\n",
    "A = nx.nx_agraph.to_agraph(G)   \n",
    "A.node_attr['style']='filled'\n",
    "A.node_attr['fillcolor']=\"white\"\n",
    "n = A.get_node(troublemaker)\n",
    "n.attr[\"fillcolor\"]=\"orange\"\n",
    "A.layout()\n",
    "A.draw(\"vertex_wild_west.pdf\")"
   ]
  },
  {
   "cell_type": "code",
   "execution_count": 7,
   "metadata": {},
   "outputs": [
    {
     "data": {
      "text/plain": [
       "CompletedProcess(args='./build', returncode=0)"
      ]
     },
     "execution_count": 7,
     "metadata": {},
     "output_type": "execute_result"
    }
   ],
   "source": [
    "# random\n",
    "\n",
    "for kernel in (True, False):\n",
    "    G = nx.Graph()\n",
    "    N = 1000\n",
    "    p = 0.01\n",
    "    G.add_nodes_from(range(N))\n",
    "    random.seed(44) # dont touch\n",
    "    \n",
    "    # normals\n",
    "    for x in range(int(N*p*0.1)):\n",
    "        x = random.randint(1,N)\n",
    "        y = random.randint(1,N)\n",
    "        G.add_edge(x, y)\n",
    "    # stressful\n",
    "    for x in range(int(N*p*0.5)):\n",
    "        x = random.randint(1,N//100)\n",
    "        y = random.randint(1,N//100)\n",
    "        G.add_edge(x, y)\n",
    "    # terror\n",
    "    for x in range(int(N*p*0.4)):\n",
    "        x = random.randint(1,N//500)\n",
    "        y = random.randint(1,N//100)\n",
    "        G.add_edge(x, y)\n",
    "        \n",
    "    # lord forgive me\n",
    "    G.remove_node(4)\n",
    "    \n",
    "    if kernel:\n",
    "        A = nx.nx_agraph.to_agraph(kernelize(G))\n",
    "    else:\n",
    "        A = nx.nx_agraph.to_agraph(G)\n",
    "    #A.node_attr['style']='filled'\n",
    "    #n = A.get_node(troublemaker)\n",
    "    #n.attr[\"fillcolor\"]=\"orange\"\n",
    "    dom = nx.algorithms.dominating.dominating_set(kernelize(G))\n",
    "    cover = [n for n in kernelize(G).nodes if n not in dom]\n",
    "    for n in A.nodes():\n",
    "        n = A.get_node(n)\n",
    "        n.attr[\"fillcolor\"]=\"white\"\n",
    "    A.layout()\n",
    "    if kernel:\n",
    "        color(A,cover, \"orange\")\n",
    "        A.draw(\"vertex_random_kernel.pdf\")\n",
    "        color(A, A.nodes(), \"white\")\n",
    "        A.draw(\"vertex_random_kernel_nocolor.pdf\")\n",
    "        \n",
    "    else:\n",
    "        A.draw(\"vertex_random_nocolor.pdf\")\n",
    "        color(A,cover, \"orange\")\n",
    "        A.draw(\"vertex_random.pdf\")\n",
    "        color(A, A.nodes(), \"white\")\n",
    "        color(A,[n for n in A.nodes() if not A.degree(n)], green)\n",
    "        A.draw(\"vertex_random_green.pdf\")\n",
    "run(\"./build\")"
   ]
  },
  {
   "cell_type": "code",
   "execution_count": 8,
   "metadata": {},
   "outputs": [
    {
     "name": "stdout",
     "output_type": "stream",
     "text": [
      "Cover size: 9 + 13 unknowns\n",
      "Cover2 size: 18\n",
      "Success?: False\n",
      "try again with k >= 33\n"
     ]
    },
    {
     "data": {
      "text/plain": [
       "CompletedProcess(args='./build', returncode=0)"
      ]
     },
     "execution_count": 8,
     "metadata": {},
     "output_type": "execute_result"
    }
   ],
   "source": [
    "# truly random\n",
    "\n",
    "G = nx.Graph()\n",
    "N = 100\n",
    "p = 0.3\n",
    "k = 8\n",
    "\n",
    "use_k = True\n",
    "\n",
    "G.add_nodes_from(range(N))\n",
    "random.seed(42) \n",
    "\n",
    "# normals\n",
    "for x in range(int(N*p)):\n",
    "    x = random.randint(1,N)\n",
    "    y = random.randint(1,N)\n",
    "    G.add_edge(x, y)\n",
    "    \n",
    "success, accepted, cover, unknown = k_vertex_cover(kernelize(G), k)\n",
    "dom = nx.algorithms.dominating.dominating_set(kernelize(G), 28)\n",
    "cover2 = [n for n in kernelize(G).nodes if n not in dom]\n",
    "\n",
    "print(\"Cover size: %d + %d unknowns\" % (len(cover), len(unknown)))\n",
    "print(\"Cover2 size: %d\" % (len(cover2)))\n",
    "print(\"Success?: %r\" % success)\n",
    "if not success:\n",
    "    print(\"try again with k >= %d\" % ((len(unknown)-k)**2 + k))\n",
    "A = nx.nx_agraph.to_agraph(kernelize(G))\n",
    "A.layout()\n",
    "color(A, A.nodes(), \"white\")\n",
    "color(A, cover2, \"orange\")\n",
    "A.draw(\"random_kernel_nocolor.pdf\")\n",
    "color(A, A.nodes(), \"white\")\n",
    "color(A, cover, \"orange\")\n",
    "# color(A, unknown, \"yellow\")\n",
    "color(A, accepted, green)\n",
    "A.draw(\"random_kernel.pdf\")\n",
    "run(\"./build\")"
   ]
  },
  {
   "cell_type": "code",
   "execution_count": 9,
   "metadata": {},
   "outputs": [
    {
     "data": {
      "text/plain": [
       "[1, 2, 4, 7]"
      ]
     },
     "execution_count": 9,
     "metadata": {},
     "output_type": "execute_result"
    }
   ],
   "source": [
    "G = nx.Graph()\n",
    "G.add_nodes_from(range(100))\n",
    "G.add_edges_from((\n",
    "    (1,2),\n",
    "    (2,3),\n",
    "    (2,4),\n",
    "    (4,5),\n",
    "    (7,8)\n",
    "))\n",
    "bounded_search(G, 4)"
   ]
  },
  {
   "cell_type": "code",
   "execution_count": 10,
   "metadata": {},
   "outputs": [
    {
     "data": {
      "text/plain": [
       "(1, 2)"
      ]
     },
     "execution_count": 10,
     "metadata": {},
     "output_type": "execute_result"
    }
   ],
   "source": [
    "next(G.edges().__iter__())"
   ]
  },
  {
   "cell_type": "code",
   "execution_count": 11,
   "metadata": {},
   "outputs": [
    {
     "data": {
      "text/plain": [
       "[1, 2, 4, 7]"
      ]
     },
     "execution_count": 11,
     "metadata": {},
     "output_type": "execute_result"
    }
   ],
   "source": [
    "bounded_search(G, 5)"
   ]
  },
  {
   "cell_type": "code",
   "execution_count": 12,
   "metadata": {},
   "outputs": [],
   "source": [
    "# bounded search tree\n",
    "k = 20\n",
    "G = nx.Graph()\n",
    "G.add_nodes_from(range(400))\n",
    "for i in range(200, 300):\n",
    "    G.add_edge(42,i)\n",
    "random.seed(42)\n",
    "for i in range(20):\n",
    "    G.add_edge(random.randint(0,100), random.randint(0,100))\n",
    "\n"
   ]
  },
  {
   "cell_type": "code",
   "execution_count": 13,
   "metadata": {},
   "outputs": [
    {
     "name": "stdout",
     "output_type": "stream",
     "text": [
      "Cover size: 6 + 9 unknowns\n",
      "Success?: True\n"
     ]
    }
   ],
   "source": [
    "success, accepted, cover, unknown = k_vertex_cover(kernelize(G), k)\n",
    "print(\"Cover size: %d + %d unknowns\" % (len(cover), len(unknown)))\n",
    "print(\"Success?: %r\" % success)\n",
    "if not success:\n",
    "    print(\"try again with k >= %d\" % ((len(unknown)-k)**2 + k))\n",
    "\n"
   ]
  },
  {
   "cell_type": "code",
   "execution_count": 14,
   "metadata": {},
   "outputs": [
    {
     "name": "stdout",
     "output_type": "stream",
     "text": [
      "Tree: [0, 3, 11, 13, 14, 17, 20, 25, 28, 29, 31, 42, 54, 57, 69, 83, 86] (17)\n"
     ]
    }
   ],
   "source": [
    "tree = bounded_search(G, 20)\n",
    "print(\"Tree: %r (%d)\" % (tree, len(tree)))"
   ]
  },
  {
   "cell_type": "code",
   "execution_count": 15,
   "metadata": {
    "scrolled": true
   },
   "outputs": [
    {
     "name": "stdout",
     "output_type": "stream",
     "text": [
      "Cover2 size: 22\n"
     ]
    }
   ],
   "source": [
    "cover2 = min_weighted_vertex_cover(G)\n",
    "print(\"Cover2 size: %d\" % (len(cover2)))"
   ]
  },
  {
   "cell_type": "code",
   "execution_count": 17,
   "metadata": {},
   "outputs": [],
   "source": [
    "from scipy.stats import binom\n",
    "from matplotlib import pyplot as plt"
   ]
  },
  {
   "cell_type": "code",
   "execution_count": null,
   "metadata": {},
   "outputs": [],
   "source": []
  }
 ],
 "metadata": {
  "kernelspec": {
   "display_name": "Python 3",
   "language": "python",
   "name": "python3"
  },
  "language_info": {
   "codemirror_mode": {
    "name": "ipython",
    "version": 3
   },
   "file_extension": ".py",
   "mimetype": "text/x-python",
   "name": "python",
   "nbconvert_exporter": "python",
   "pygments_lexer": "ipython3",
   "version": "3.7.3"
  }
 },
 "nbformat": 4,
 "nbformat_minor": 2
}
